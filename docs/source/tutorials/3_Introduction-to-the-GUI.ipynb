{
 "cells": [
  {
   "attachments": {},
   "cell_type": "markdown",
   "metadata": {
    "collapsed": true
   },
   "source": [
    "# Introduction to the openPMD-viewer GUI\n",
    "\n",
    "This notebook explains how to use the openPMD GUI. You can run this notebook locally by downloading it from [this link](https://github.com/openPMD/openPMD-viewer/blob/dev/docs/source/tutorials/3_Introduction-to-the-GUI.ipynb).\n",
    "\n",
    "The GUI relies on the Jupyter notebook, and on the package `ipywidgets`. You will need to install these packages in order to be able to use the GUI.\n",
    "\n",
    "## (optional) Preparing this notebook to run it locally\n",
    "\n",
    "If you choose to run this notebook on your local machine, you will need to download the openPMD data files which will then be visualized. To do so, execute the following cell."
   ]
  },
  {
   "cell_type": "code",
   "execution_count": null,
   "metadata": {},
   "outputs": [],
   "source": [
    "import os\n",
    "\n",
    "def download_if_absent( dataset_name ):\n",
    "    \"Function that downloads and decompress a chosen dataset\"\n",
    "    if os.path.exists( dataset_name ) is False:\n",
    "        import wget, tarfile\n",
    "        tar_name = \"%s.tar.gz\" %dataset_name\n",
    "        url = \"https://github.com/openPMD/openPMD-example-datasets/raw/draft/%s\" %tar_name\n",
    "        wget.download(url, tar_name)\n",
    "        with tarfile.open( tar_name ) as tar_file:\n",
    "            tar_file.extractall()\n",
    "        os.remove( tar_name )\n",
    "\n",
    "download_if_absent( 'example-2d' )\n",
    "download_if_absent( 'example-3d' )\n",
    "download_if_absent( 'example-thetaMode' )"
   ]
  },
  {
   "attachments": {},
   "cell_type": "markdown",
   "metadata": {},
   "source": [
    "In addition, we choose here to incorporate the plots inside the notebook."
   ]
  },
  {
   "cell_type": "code",
   "execution_count": null,
   "metadata": {},
   "outputs": [],
   "source": [
    "%matplotlib notebook\n",
    "# Use `%matplotlib widget` when using JupyterLab"
   ]
  },
  {
   "attachments": {},
   "cell_type": "markdown",
   "metadata": {},
   "source": [
    "## Prepare and use the GUI \n",
    "\n",
    "In order to start using the GUI:\n",
    "- Load the class `OpenPMDTimeSeries` from the module `openpmd_viewer`"
   ]
  },
  {
   "cell_type": "code",
   "execution_count": null,
   "metadata": {},
   "outputs": [],
   "source": [
    "from openpmd_viewer import OpenPMDTimeSeries"
   ]
  },
  {
   "attachments": {},
   "cell_type": "markdown",
   "metadata": {},
   "source": [
    "- Create a time series object by pointing to the folder which contains the corresponding openPMD data"
   ]
  },
  {
   "cell_type": "code",
   "execution_count": null,
   "metadata": {},
   "outputs": [],
   "source": [
    "ts_2d = OpenPMDTimeSeries('./example-2d/hdf5/')"
   ]
  },
  {
   "attachments": {},
   "cell_type": "markdown",
   "metadata": {},
   "source": [
    "- Call the `slider` method"
   ]
  },
  {
   "cell_type": "code",
   "execution_count": null,
   "metadata": {},
   "outputs": [],
   "source": [
    "ts_2d.slider()"
   ]
  },
  {
   "attachments": {},
   "cell_type": "markdown",
   "metadata": {},
   "source": [
    "Under the hood, this panel is calling the openPMD-viewer API with the `plot=True` option, and thus the user can quickly plot different quantities by clicking on the panel:\n",
    "    - The top slider allows the user to choose the time for which to do the plot. Clicking on the `+` and `-` buttons moves from iteration to iteration.\n",
    "    - The left subpanel allows to choose the plotted fields \n",
    "    - The right subpanel allows to choose the particle quantites (note that it also detects the species present in the file)\n",
    "    - The `Plotting options` menu gathers some common matplotlib options.\n",
    "\n",
    "Please try this interactive interface for yourself, in order to explore its capabilities!"
   ]
  },
  {
   "attachments": {},
   "cell_type": "markdown",
   "metadata": {},
   "source": [
    "## GUI for specific field geometries\n",
    "\n",
    "Note that the above panel will adapt to the field geometry, and to the presence or absence of particles in the data files.\n",
    "\n",
    "\n",
    "### 3D datasets\n",
    "For instance, the code below creates a slider that explores a 3D Cartesian dataset (and contains only electrons; no ions)."
   ]
  },
  {
   "cell_type": "code",
   "execution_count": null,
   "metadata": {},
   "outputs": [],
   "source": [
    "ts_3d = OpenPMDTimeSeries('./example-3d/hdf5/')\n",
    "ts_3d.slider( fields_figure=2, particles_figure=3 )"
   ]
  },
  {
   "attachments": {},
   "cell_type": "markdown",
   "metadata": {},
   "source": [
    "### Cylindrical datasets with azimuthal decomposition\n",
    "\n",
    "Similarly, the code below explores a dataset with azimuthal decomposition (2 azimuthal modes). Moreover, this dataset does not contain any particles, as reflect by the aspect of the GUI."
   ]
  },
  {
   "cell_type": "code",
   "execution_count": null,
   "metadata": {},
   "outputs": [],
   "source": [
    "ts_circ = OpenPMDTimeSeries('./example-thetaMode/hdf5/')\n",
    "ts_circ.slider( fields_figure=4 )"
   ]
  },
  {
   "attachments": {},
   "cell_type": "markdown",
   "metadata": {},
   "source": [
    "Note that the interface includes buttons for the choice of modes and for the angle ``theta`` of observation."
   ]
  }
 ],
 "metadata": {
  "kernelspec": {
   "display_name": "Python 3",
   "language": "python",
   "name": "python3"
  },
  "language_info": {
   "codemirror_mode": {
    "name": "ipython",
    "version": 3
   },
   "file_extension": ".py",
   "mimetype": "text/x-python",
   "name": "python",
   "nbconvert_exporter": "python",
   "pygments_lexer": "ipython3",
   "version": "3.6.3"
  }
 },
 "nbformat": 4,
 "nbformat_minor": 2
}
